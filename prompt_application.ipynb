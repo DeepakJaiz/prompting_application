{
 "cells": [
  {
   "cell_type": "markdown",
   "id": "f3d75758",
   "metadata": {},
   "source": [
    "### PAL (Program-Aided Language Models)"
   ]
  },
  {
   "cell_type": "code",
   "execution_count": 5,
   "id": "298c0631",
   "metadata": {},
   "outputs": [],
   "source": [
    "import openai\n",
    "from datetime import datetime\n",
    "from dateutil.relativedelta import relativedelta\n",
    "from langchain.llms import OpenAI\n",
    "import os\n",
    "os.environ[\"OPENAI_API_KEY\"] = \"open api key\""
   ]
  },
  {
   "cell_type": "code",
   "execution_count": 6,
   "id": "0a9a0099",
   "metadata": {},
   "outputs": [],
   "source": [
    "llm = OpenAI(model_name='text-davinci-003', temperature=0)"
   ]
  },
  {
   "cell_type": "code",
   "execution_count": 7,
   "id": "0d68933a",
   "metadata": {},
   "outputs": [],
   "source": [
    "question = \"Today is 27 February 2023. I was born exactly 25 years ago. What is the date I was born in MM/DD/YYYY?\"\n",
    " \n",
    "DATE_UNDERSTANDING_PROMPT = \"\"\"\n",
    "# Q: 2015 is coming in 36 hours. What is the date one week from today in MM/DD/YYYY?\n",
    "# If 2015 is coming in 36 hours, then today is 36 hours before.\n",
    "today = datetime(2015, 1, 1) - relativedelta(hours=36)\n",
    "# One week from today,\n",
    "one_week_from_today = today + relativedelta(weeks=1)\n",
    "# The answer formatted with %m/%d/%Y is\n",
    "one_week_from_today.strftime('%m/%d/%Y')\n",
    "# Q: The first day of 2019 is a Tuesday, and today is the first Monday of 2019. What is the date today in MM/DD/YYYY?\n",
    "# If the first day of 2019 is a Tuesday, and today is the first Monday of 2019, then today is 6 days later.\n",
    "today = datetime(2019, 1, 1) + relativedelta(days=6)\n",
    "# The answer formatted with %m/%d/%Y is\n",
    "today.strftime('%m/%d/%Y')\n",
    "# Q: The concert was scheduled to be on 06/01/1943, but was delayed by one day to today. What is the date 10 days ago in MM/DD/YYYY?\n",
    "# If the concert was scheduled to be on 06/01/1943, but was delayed by one day to today, then today is one day later.\n",
    "today = datetime(1943, 6, 1) + relativedelta(days=1)\n",
    "# 10 days ago,\n",
    "ten_days_ago = today - relativedelta(days=10)\n",
    "# The answer formatted with %m/%d/%Y is\n",
    "ten_days_ago.strftime('%m/%d/%Y')\n",
    "# Q: It is 4/19/1969 today. What is the date 24 hours later in MM/DD/YYYY?\n",
    "# It is 4/19/1969 today.\n",
    "today = datetime(1969, 4, 19)\n",
    "# 24 hours later,\n",
    "later = today + relativedelta(hours=24)\n",
    "# The answer formatted with %m/%d/%Y is\n",
    "today.strftime('%m/%d/%Y')\n",
    "# Q: Jane thought today is 3/11/2002, but today is in fact Mar 12, which is 1 day later. What is the date 24 hours later in MM/DD/YYYY?\n",
    "# If Jane thought today is 3/11/2002, but today is in fact Mar 12, then today is 3/1/2002.\n",
    "today = datetime(2002, 3, 12)\n",
    "# 24 hours later,\n",
    "later = today + relativedelta(hours=24)\n",
    "# The answer formatted with %m/%d/%Y is\n",
    "later.strftime('%m/%d/%Y')\n",
    "# Q: Jane was born on the last day of Feburary in 2001. Today is her 16-year-old birthday. What is the date yesterday in MM/DD/YYYY?\n",
    "# If Jane was born on the last day of Feburary in 2001 and today is her 16-year-old birthday, then today is 16 years later.\n",
    "today = datetime(2001, 2, 28) + relativedelta(years=16)\n",
    "# Yesterday,\n",
    "yesterday = today - relativedelta(days=1)\n",
    "# The answer formatted with %m/%d/%Y is\n",
    "yesterday.strftime('%m/%d/%Y')\n",
    "# Q: {question}\n",
    "\"\"\".strip() + '\\n'"
   ]
  },
  {
   "cell_type": "code",
   "execution_count": 8,
   "id": "501300a0",
   "metadata": {},
   "outputs": [
    {
     "name": "stdout",
     "output_type": "stream",
     "text": [
      "# If today is 27 February 2023 and I was born exactly 25 years ago, then I was born 25 years before.\n",
      "today = datetime(2023, 2, 27)\n",
      "# I was born 25 years before,\n",
      "born = today - relativedelta(years=25)\n",
      "# The answer formatted with %m/%d/%Y is\n",
      "born.strftime('%m/%d/%Y')\n"
     ]
    }
   ],
   "source": [
    "llm_out = llm(DATE_UNDERSTANDING_PROMPT.format(question=question))\n",
    "print(llm_out)"
   ]
  },
  {
   "cell_type": "code",
   "execution_count": 9,
   "id": "96868cd1",
   "metadata": {},
   "outputs": [
    {
     "name": "stdout",
     "output_type": "stream",
     "text": [
      "1998-02-27 00:00:00\n"
     ]
    }
   ],
   "source": [
    "exec(llm_out)\n",
    "print(born)"
   ]
  },
  {
   "cell_type": "markdown",
   "id": "ea5ec57f",
   "metadata": {},
   "source": [
    "### Generating Data"
   ]
  },
  {
   "cell_type": "code",
   "execution_count": 10,
   "id": "935b2962",
   "metadata": {},
   "outputs": [],
   "source": [
    "def get_completion(prompt, model=\"gpt-3.5-turbo\"):\n",
    "    messages = [{\"role\": \"user\", \"content\": prompt}]\n",
    "    response = openai.ChatCompletion.create(\n",
    "        model=model,\n",
    "        messages=messages,\n",
    "        temperature=0, # this is the degree of randomness of the model's output\n",
    "    )\n",
    "    return response.choices[0].message[\"content\"]"
   ]
  },
  {
   "cell_type": "code",
   "execution_count": 11,
   "id": "b6f284e1",
   "metadata": {},
   "outputs": [
    {
     "name": "stdout",
     "output_type": "stream",
     "text": [
      "1. Q: I had a great time at the party last night.\n",
      "   A: Positive\n",
      "\n",
      "2. Q: The food at the restaurant was terrible.\n",
      "   A: Negative\n",
      "\n",
      "3. Q: I love spending time with my family.\n",
      "   A: Positive\n",
      "\n",
      "4. Q: The customer service at the store was amazing.\n",
      "   A: Positive\n",
      "\n",
      "5. Q: I hate getting stuck in traffic.\n",
      "   A: Negative\n",
      "\n",
      "6. Q: The movie I watched last night was fantastic.\n",
      "   A: Positive\n",
      "\n",
      "7. Q: I can't stand the cold weather.\n",
      "   A: Negative\n",
      "\n",
      "8. Q: I had a wonderful vacation in Hawaii.\n",
      "   A: Positive\n",
      "\n",
      "9. Q: The service at the hotel was terrible.\n",
      "   A: Negative\n",
      "\n",
      "10. Q: I am so grateful for my supportive friends.\n",
      "    A: Positive\n"
     ]
    }
   ],
   "source": [
    "prompt = \"\"\"\n",
    "Produce 10 exemplars for sentiment analysis. Examples are categorized as either positive or negative. Produce 2 negative examples and 8 positive examples. Use this format for the examples:\n",
    "Q: <sentence>\n",
    "A: <sentiment>\n",
    "\"\"\"\n",
    "\n",
    "response = get_completion(prompt)\n",
    "print(response)"
   ]
  },
  {
   "cell_type": "markdown",
   "id": "49cf5a25",
   "metadata": {},
   "source": [
    "### Generating Code"
   ]
  },
  {
   "cell_type": "markdown",
   "id": "84f8ef38",
   "metadata": {},
   "source": [
    " Turn Comments Into Code"
   ]
  },
  {
   "cell_type": "code",
   "execution_count": 12,
   "id": "1dc5dbea",
   "metadata": {},
   "outputs": [
    {
     "name": "stdout",
     "output_type": "stream",
     "text": [
      "movies = [\"The Shawshank Redemption\", \"The Godfather\", \"The Dark Knight\", \"The Lord of the Rings: The Return of the King\", \"Pulp Fiction\", \"Forrest Gump\", \"Inception\", \"The Matrix\", \"Goodfellas\", \"Fight Club\"]\n",
      "ratings = [9.3, 9.2, 9.0, 8.9, 8.9, 8.8, 8.7, 8.6, 8.6, 8.5]\n",
      "\n",
      "movie_ratings = {}\n",
      "for i in range(len(movies)):\n",
      "    movie_ratings[movies[i]] = ratings[i]\n",
      "\n",
      "json_object = json.dumps(movie_ratings, indent=4)\n"
     ]
    }
   ],
   "source": [
    "prompt = \"\"\"\n",
    "You are a helpful code assistant that can teach a junior developer how to code. Your language of choice is Python. Don't explain the code, just generate the code block itself.\n",
    "###\n",
    "1. Create a list of movies\n",
    "2. Create a list of ratings for these movies\n",
    "3. Combine them to make a json object of 10 movies with their ratings.\n",
    "###\n",
    "\"\"\"\n",
    "\n",
    "response = get_completion(prompt)\n",
    "print(response)"
   ]
  },
  {
   "cell_type": "markdown",
   "id": "a8506ff6",
   "metadata": {},
   "source": [
    "##### Complete Functions or Next Line"
   ]
  },
  {
   "cell_type": "code",
   "execution_count": 13,
   "id": "b002225d",
   "metadata": {},
   "outputs": [
    {
     "name": "stdout",
     "output_type": "stream",
     "text": [
      "def multiply(num1, num2):\n",
      "    result = num1 * num2\n",
      "    return result\n"
     ]
    }
   ],
   "source": [
    "prompt = \"\"\"\n",
    "You are a helpful code assistant that can teach a junior developer how to code. Your language of choice is Python. Don't explain the code, just generate the code block itself.\n",
    "###\n",
    "def multiply(\n",
    "###\n",
    "\"\"\"\n",
    "\n",
    "response = get_completion(prompt)\n",
    "print(response)"
   ]
  },
  {
   "cell_type": "markdown",
   "id": "5924970e",
   "metadata": {},
   "source": [
    "##### MySQL Query Generation"
   ]
  },
  {
   "cell_type": "code",
   "execution_count": 14,
   "id": "214743d3",
   "metadata": {},
   "outputs": [
    {
     "name": "stdout",
     "output_type": "stream",
     "text": [
      "SELECT StudentId, StudentName \n",
      "FROM students \n",
      "WHERE DepartmentId = (SELECT DepartmentId FROM departments WHERE DepartmentName = 'Computer Science')\n"
     ]
    }
   ],
   "source": [
    "prompt = \"\"\"\n",
    "You are a helpful code assistant that can teach a junior developer how to code. Your language of choice is Python. Don't explain the code, just generate the code block itself.\n",
    "###\n",
    "Table departments, columns = [DepartmentId, DepartmentName]\n",
    "Table students, columns = [DepartmentId, StudentId, StudentName]\n",
    "Create a MySQL query for all students in the Computer Science department\n",
    "###\n",
    "\"\"\"\n",
    "\n",
    "response = get_completion(prompt)\n",
    "print(response)"
   ]
  },
  {
   "cell_type": "markdown",
   "id": "26858ddd",
   "metadata": {},
   "source": [
    "##### Explain Code"
   ]
  },
  {
   "cell_type": "code",
   "execution_count": 15,
   "id": "215d2444",
   "metadata": {},
   "outputs": [
    {
     "name": "stdout",
     "output_type": "stream",
     "text": [
      "The SQL statement selects the StudentId and StudentName columns from the students table. It then performs an inner join with the departments table on the DepartmentId column of both tables. The join is based on the condition that the DepartmentId of the students table matches the DepartmentId of the departments table. The WHERE clause filters the results to only include students who belong to the department with the name 'Computer Science'.\n"
     ]
    }
   ],
   "source": [
    "prompt = \"\"\"\n",
    "\n",
    "SELECT students.StudentId, students.StudentName\n",
    "FROM students\n",
    "INNER JOIN departments\n",
    "ON students.DepartmentId = departments.DepartmentId\n",
    "WHERE departments.DepartmentName = 'Computer Science';\n",
    "Explain the above SQL statement.\n",
    "\n",
    "\"\"\"\n",
    "\n",
    "response = get_completion(prompt)\n",
    "print(response)"
   ]
  },
  {
   "cell_type": "markdown",
   "id": "839cfc19",
   "metadata": {},
   "source": [
    "##### Prompt Function"
   ]
  },
  {
   "cell_type": "code",
   "execution_count": 22,
   "id": "9e31b68a",
   "metadata": {},
   "outputs": [
    {
     "name": "stdout",
     "output_type": "stream",
     "text": [
      "Output: \n",
      "The Mount Bromo volcano is located in Indonesia, which is known as the \"Thousand Islands\" country. Indonesia, a multi-island country, has as many as 4,500 volcanoes, and three of the world's top ten active volcanoes are located here.\n"
     ]
    }
   ],
   "source": [
    "text = \"trans_word('婆罗摩火山处于享有“千岛之国”美称的印度尼西亚. 多岛之国印尼有4500座之多的火山, 世界著名的十大活火山有三座在这里.')\"\n",
    "\n",
    "prompt = f\"\"\"\n",
    "Hello, ChatGPT! I hope you are doing well. I am reaching out to you for assistance with a specific function. I understand that you have the capability to process information and perform various tasks based on the instructions provided. In order to help you understand my request more easily, I will be using a template to describe the function, input, and instructions on what to do with the input. Please find the details below:\n",
    "/function_name: [trans_word]\n",
    "input: [\"text\"]\n",
    "rule: [I want you to act as an English translator, spelling corrector and improver. I will provide you with input forms including \"text\" in any language and you will detect the language, translate it and answer in the corrected of my text, in English.]/\n",
    "/function_name: [expand_word]\n",
    "input: [\"text\"]\n",
    "rule: [Please serve as a Chatterbox, spelling corrector, and language enhancer. I will provide you with input forms including \"text\" in any language, and output the original language.I want you to Keep the meaning same, but make them more literary.]/\n",
    "/function_name: [fix_english]\n",
    "input: [\"text\"]\n",
    "rule: [Please serve as an English master, spelling corrector, and language enhancer. I will provide you with input forms including \"text\", I want you to improve the text's vocabulary and sentences with more natural and elegent. Keep the meaning same.]/\n",
    "\n",
    "I kindly request you to provide the output for this function, based on the details I have provided. Your assistance is greatly appreciated. Thank you!\n",
    "I will replace the text inside the brackets with the relevant information for the function I want you to perform. This detailed introduction should help you understand my request more efficiently and provide the desired output. The format is function_name(input).\n",
    "input function = {text}\n",
    "\"\"\"\n",
    "\n",
    "response = get_completion(prompt)\n",
    "print(response)"
   ]
  },
  {
   "cell_type": "code",
   "execution_count": null,
   "id": "dcc4fe8e",
   "metadata": {},
   "outputs": [],
   "source": []
  },
  {
   "cell_type": "code",
   "execution_count": null,
   "id": "f354d16f",
   "metadata": {},
   "outputs": [],
   "source": []
  },
  {
   "cell_type": "code",
   "execution_count": null,
   "id": "35a4467d",
   "metadata": {},
   "outputs": [],
   "source": []
  },
  {
   "cell_type": "code",
   "execution_count": null,
   "id": "c2026d4e",
   "metadata": {},
   "outputs": [],
   "source": []
  },
  {
   "cell_type": "code",
   "execution_count": null,
   "id": "dfcf7c59",
   "metadata": {},
   "outputs": [],
   "source": []
  },
  {
   "cell_type": "code",
   "execution_count": null,
   "id": "9af401cb",
   "metadata": {},
   "outputs": [],
   "source": []
  },
  {
   "cell_type": "code",
   "execution_count": null,
   "id": "228628c6",
   "metadata": {},
   "outputs": [],
   "source": []
  },
  {
   "cell_type": "code",
   "execution_count": null,
   "id": "54ffd35b",
   "metadata": {},
   "outputs": [],
   "source": []
  },
  {
   "cell_type": "code",
   "execution_count": null,
   "id": "3bc54c01",
   "metadata": {},
   "outputs": [],
   "source": []
  },
  {
   "cell_type": "code",
   "execution_count": null,
   "id": "ff5e19b2",
   "metadata": {},
   "outputs": [],
   "source": []
  },
  {
   "cell_type": "code",
   "execution_count": null,
   "id": "c175e3b3",
   "metadata": {},
   "outputs": [],
   "source": []
  },
  {
   "cell_type": "code",
   "execution_count": null,
   "id": "68ac00dd",
   "metadata": {},
   "outputs": [],
   "source": []
  },
  {
   "cell_type": "code",
   "execution_count": null,
   "id": "07b29de8",
   "metadata": {},
   "outputs": [],
   "source": []
  },
  {
   "cell_type": "code",
   "execution_count": null,
   "id": "aa30311e",
   "metadata": {},
   "outputs": [],
   "source": []
  },
  {
   "cell_type": "code",
   "execution_count": null,
   "id": "81289e5b",
   "metadata": {},
   "outputs": [],
   "source": []
  },
  {
   "cell_type": "code",
   "execution_count": null,
   "id": "639c9a7a",
   "metadata": {},
   "outputs": [],
   "source": []
  }
 ],
 "metadata": {
  "kernelspec": {
   "display_name": "Python 3 (ipykernel)",
   "language": "python",
   "name": "python3"
  },
  "language_info": {
   "codemirror_mode": {
    "name": "ipython",
    "version": 3
   },
   "file_extension": ".py",
   "mimetype": "text/x-python",
   "name": "python",
   "nbconvert_exporter": "python",
   "pygments_lexer": "ipython3",
   "version": "3.10.9"
  }
 },
 "nbformat": 4,
 "nbformat_minor": 5
}
